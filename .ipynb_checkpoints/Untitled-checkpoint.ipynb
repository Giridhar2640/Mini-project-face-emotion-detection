{
 "cells": [
  {
   "cell_type": "code",
   "execution_count": 1,
   "id": "ef23bb2e-e998-480e-9ce3-e3bc3e9f5de1",
   "metadata": {},
   "outputs": [],
   "source": [
    "import random"
   ]
  },
  {
   "cell_type": "code",
   "execution_count": 4,
   "id": "53c77ee1-1ace-434a-80f1-b5a580c47033",
   "metadata": {},
   "outputs": [
    {
     "name": "stdin",
     "output_type": "stream",
     "text": [
      "enter the name of 1st person: harshith\n",
      "enter the name of 2nd person: sanjana\n"
     ]
    },
    {
     "name": "stdout",
     "output_type": "stream",
     "text": [
      "love percentage between harshith and sanjana is 84%\n"
     ]
    }
   ],
   "source": [
    "a = input('enter the name of 1st person:')\n",
    "b = input('enter the name of 2nd person:')\n",
    "\n",
    "lc=random.randint(0,100)\n",
    "print(f'love percentage between {a} and {b} is {lc}%')"
   ]
  },
  {
   "cell_type": "code",
   "execution_count": null,
   "id": "4cb38132-c5e5-4889-8ae2-099a65916ce5",
   "metadata": {},
   "outputs": [],
   "source": []
  }
 ],
 "metadata": {
  "kernelspec": {
   "display_name": "Python 3 (ipykernel)",
   "language": "python",
   "name": "python3"
  },
  "language_info": {
   "codemirror_mode": {
    "name": "ipython",
    "version": 3
   },
   "file_extension": ".py",
   "mimetype": "text/x-python",
   "name": "python",
   "nbconvert_exporter": "python",
   "pygments_lexer": "ipython3",
   "version": "3.11.9"
  }
 },
 "nbformat": 4,
 "nbformat_minor": 5
}
